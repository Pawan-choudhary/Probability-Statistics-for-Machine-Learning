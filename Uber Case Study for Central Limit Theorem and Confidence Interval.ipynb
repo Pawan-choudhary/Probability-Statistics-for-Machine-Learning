{
  "nbformat": 4,
  "nbformat_minor": 0,
  "metadata": {
    "colab": {
      "provenance": [],
      "authorship_tag": "ABX9TyObkNYKQjV86n/Asg9wFUbd"
    },
    "kernelspec": {
      "name": "python3",
      "display_name": "Python 3"
    },
    "language_info": {
      "name": "python"
    }
  },
  "cells": [
    {
      "cell_type": "markdown",
      "source": [
        "# Task\n",
        "To get 95% Condidence Interval of mean delivery time from location1 to location 5"
      ],
      "metadata": {
        "id": "h-YwHX9ZLKgD"
      }
    },
    {
      "cell_type": "code",
      "execution_count": 6,
      "metadata": {
        "id": "SkbPl0I7Btti"
      },
      "outputs": [],
      "source": [
        "from scipy import stats \n",
        "import seaborn as sns\n",
        "import numpy as np\n",
        "import matplotlib.pyplot as plt\n",
        "import pandas as pd"
      ]
    },
    {
      "cell_type": "markdown",
      "source": [
        "## Uber Data"
      ],
      "metadata": {
        "id": "RThm_oCrEpDP"
      }
    },
    {
      "cell_type": "code",
      "source": [
        "df = pd.read_csv(\"/content/uber_travel_data.csv\")\n",
        "df.head()"
      ],
      "metadata": {
        "colab": {
          "base_uri": "https://localhost:8080/",
          "height": 206
        },
        "id": "MYWzkK36FfAt",
        "outputId": "f46c5e06-5d74-4796-8338-f28897cfe42b"
      },
      "execution_count": 7,
      "outputs": [
        {
          "output_type": "execute_result",
          "data": {
            "text/plain": [
              "   sourceid                                             source  dstid  \\\n",
              "0         1  300 Ring Road, Block CB, Naraina Village, Nara...      1   \n",
              "1         1  300 Ring Road, Block CB, Naraina Village, Nara...      1   \n",
              "2         1  300 Ring Road, Block CB, Naraina Village, Nara...      1   \n",
              "3         1  300 Ring Road, Block CB, Naraina Village, Nara...      1   \n",
              "4         1  300 Ring Road, Block CB, Naraina Village, Nara...      1   \n",
              "\n",
              "                                         destination  travel_time  \n",
              "0  300 Ring Road, Block CB, Naraina Village, Nara...          283  \n",
              "1  300 Ring Road, Block CB, Naraina Village, Nara...          266  \n",
              "2  300 Ring Road, Block CB, Naraina Village, Nara...          238  \n",
              "3  300 Ring Road, Block CB, Naraina Village, Nara...          269  \n",
              "4  300 Ring Road, Block CB, Naraina Village, Nara...          259  "
            ],
            "text/html": [
              "\n",
              "  <div id=\"df-a3f053f7-58f2-44b5-86c1-fb5a0a3a5357\">\n",
              "    <div class=\"colab-df-container\">\n",
              "      <div>\n",
              "<style scoped>\n",
              "    .dataframe tbody tr th:only-of-type {\n",
              "        vertical-align: middle;\n",
              "    }\n",
              "\n",
              "    .dataframe tbody tr th {\n",
              "        vertical-align: top;\n",
              "    }\n",
              "\n",
              "    .dataframe thead th {\n",
              "        text-align: right;\n",
              "    }\n",
              "</style>\n",
              "<table border=\"1\" class=\"dataframe\">\n",
              "  <thead>\n",
              "    <tr style=\"text-align: right;\">\n",
              "      <th></th>\n",
              "      <th>sourceid</th>\n",
              "      <th>source</th>\n",
              "      <th>dstid</th>\n",
              "      <th>destination</th>\n",
              "      <th>travel_time</th>\n",
              "    </tr>\n",
              "  </thead>\n",
              "  <tbody>\n",
              "    <tr>\n",
              "      <th>0</th>\n",
              "      <td>1</td>\n",
              "      <td>300 Ring Road, Block CB, Naraina Village, Nara...</td>\n",
              "      <td>1</td>\n",
              "      <td>300 Ring Road, Block CB, Naraina Village, Nara...</td>\n",
              "      <td>283</td>\n",
              "    </tr>\n",
              "    <tr>\n",
              "      <th>1</th>\n",
              "      <td>1</td>\n",
              "      <td>300 Ring Road, Block CB, Naraina Village, Nara...</td>\n",
              "      <td>1</td>\n",
              "      <td>300 Ring Road, Block CB, Naraina Village, Nara...</td>\n",
              "      <td>266</td>\n",
              "    </tr>\n",
              "    <tr>\n",
              "      <th>2</th>\n",
              "      <td>1</td>\n",
              "      <td>300 Ring Road, Block CB, Naraina Village, Nara...</td>\n",
              "      <td>1</td>\n",
              "      <td>300 Ring Road, Block CB, Naraina Village, Nara...</td>\n",
              "      <td>238</td>\n",
              "    </tr>\n",
              "    <tr>\n",
              "      <th>3</th>\n",
              "      <td>1</td>\n",
              "      <td>300 Ring Road, Block CB, Naraina Village, Nara...</td>\n",
              "      <td>1</td>\n",
              "      <td>300 Ring Road, Block CB, Naraina Village, Nara...</td>\n",
              "      <td>269</td>\n",
              "    </tr>\n",
              "    <tr>\n",
              "      <th>4</th>\n",
              "      <td>1</td>\n",
              "      <td>300 Ring Road, Block CB, Naraina Village, Nara...</td>\n",
              "      <td>1</td>\n",
              "      <td>300 Ring Road, Block CB, Naraina Village, Nara...</td>\n",
              "      <td>259</td>\n",
              "    </tr>\n",
              "  </tbody>\n",
              "</table>\n",
              "</div>\n",
              "      <button class=\"colab-df-convert\" onclick=\"convertToInteractive('df-a3f053f7-58f2-44b5-86c1-fb5a0a3a5357')\"\n",
              "              title=\"Convert this dataframe to an interactive table.\"\n",
              "              style=\"display:none;\">\n",
              "        \n",
              "  <svg xmlns=\"http://www.w3.org/2000/svg\" height=\"24px\"viewBox=\"0 0 24 24\"\n",
              "       width=\"24px\">\n",
              "    <path d=\"M0 0h24v24H0V0z\" fill=\"none\"/>\n",
              "    <path d=\"M18.56 5.44l.94 2.06.94-2.06 2.06-.94-2.06-.94-.94-2.06-.94 2.06-2.06.94zm-11 1L8.5 8.5l.94-2.06 2.06-.94-2.06-.94L8.5 2.5l-.94 2.06-2.06.94zm10 10l.94 2.06.94-2.06 2.06-.94-2.06-.94-.94-2.06-.94 2.06-2.06.94z\"/><path d=\"M17.41 7.96l-1.37-1.37c-.4-.4-.92-.59-1.43-.59-.52 0-1.04.2-1.43.59L10.3 9.45l-7.72 7.72c-.78.78-.78 2.05 0 2.83L4 21.41c.39.39.9.59 1.41.59.51 0 1.02-.2 1.41-.59l7.78-7.78 2.81-2.81c.8-.78.8-2.07 0-2.86zM5.41 20L4 18.59l7.72-7.72 1.47 1.35L5.41 20z\"/>\n",
              "  </svg>\n",
              "      </button>\n",
              "      \n",
              "  <style>\n",
              "    .colab-df-container {\n",
              "      display:flex;\n",
              "      flex-wrap:wrap;\n",
              "      gap: 12px;\n",
              "    }\n",
              "\n",
              "    .colab-df-convert {\n",
              "      background-color: #E8F0FE;\n",
              "      border: none;\n",
              "      border-radius: 50%;\n",
              "      cursor: pointer;\n",
              "      display: none;\n",
              "      fill: #1967D2;\n",
              "      height: 32px;\n",
              "      padding: 0 0 0 0;\n",
              "      width: 32px;\n",
              "    }\n",
              "\n",
              "    .colab-df-convert:hover {\n",
              "      background-color: #E2EBFA;\n",
              "      box-shadow: 0px 1px 2px rgba(60, 64, 67, 0.3), 0px 1px 3px 1px rgba(60, 64, 67, 0.15);\n",
              "      fill: #174EA6;\n",
              "    }\n",
              "\n",
              "    [theme=dark] .colab-df-convert {\n",
              "      background-color: #3B4455;\n",
              "      fill: #D2E3FC;\n",
              "    }\n",
              "\n",
              "    [theme=dark] .colab-df-convert:hover {\n",
              "      background-color: #434B5C;\n",
              "      box-shadow: 0px 1px 3px 1px rgba(0, 0, 0, 0.15);\n",
              "      filter: drop-shadow(0px 1px 2px rgba(0, 0, 0, 0.3));\n",
              "      fill: #FFFFFF;\n",
              "    }\n",
              "  </style>\n",
              "\n",
              "      <script>\n",
              "        const buttonEl =\n",
              "          document.querySelector('#df-a3f053f7-58f2-44b5-86c1-fb5a0a3a5357 button.colab-df-convert');\n",
              "        buttonEl.style.display =\n",
              "          google.colab.kernel.accessAllowed ? 'block' : 'none';\n",
              "\n",
              "        async function convertToInteractive(key) {\n",
              "          const element = document.querySelector('#df-a3f053f7-58f2-44b5-86c1-fb5a0a3a5357');\n",
              "          const dataTable =\n",
              "            await google.colab.kernel.invokeFunction('convertToInteractive',\n",
              "                                                     [key], {});\n",
              "          if (!dataTable) return;\n",
              "\n",
              "          const docLinkHtml = 'Like what you see? Visit the ' +\n",
              "            '<a target=\"_blank\" href=https://colab.research.google.com/notebooks/data_table.ipynb>data table notebook</a>'\n",
              "            + ' to learn more about interactive tables.';\n",
              "          element.innerHTML = '';\n",
              "          dataTable['output_type'] = 'display_data';\n",
              "          await google.colab.output.renderOutput(dataTable, element);\n",
              "          const docLink = document.createElement('div');\n",
              "          docLink.innerHTML = docLinkHtml;\n",
              "          element.appendChild(docLink);\n",
              "        }\n",
              "      </script>\n",
              "    </div>\n",
              "  </div>\n",
              "  "
            ]
          },
          "metadata": {},
          "execution_count": 7
        }
      ]
    },
    {
      "cell_type": "code",
      "source": [
        "df.shape"
      ],
      "metadata": {
        "colab": {
          "base_uri": "https://localhost:8080/"
        },
        "id": "tGjYrB1FF2WA",
        "outputId": "e93cfa90-4500-4685-bd6f-4f8b544a88a2"
      },
      "execution_count": 8,
      "outputs": [
        {
          "output_type": "execute_result",
          "data": {
            "text/plain": [
              "(4542026, 5)"
            ]
          },
          "metadata": {},
          "execution_count": 8
        }
      ]
    },
    {
      "cell_type": "code",
      "source": [
        "df.columns"
      ],
      "metadata": {
        "colab": {
          "base_uri": "https://localhost:8080/"
        },
        "id": "KLCGl2ZKF6Tz",
        "outputId": "2347cfdd-af88-4db3-c0de-a698e89e08f3"
      },
      "execution_count": 10,
      "outputs": [
        {
          "output_type": "execute_result",
          "data": {
            "text/plain": [
              "Index(['sourceid', 'source', 'dstid', 'destination', 'travel_time'], dtype='object')"
            ]
          },
          "metadata": {},
          "execution_count": 10
        }
      ]
    },
    {
      "cell_type": "code",
      "source": [
        "df.sample(100).head()"
      ],
      "metadata": {
        "colab": {
          "base_uri": "https://localhost:8080/",
          "height": 206
        },
        "id": "K_kD6qmyGF9X",
        "outputId": "c4923bc4-9070-4dd9-d505-0930da61e07c"
      },
      "execution_count": 11,
      "outputs": [
        {
          "output_type": "execute_result",
          "data": {
            "text/plain": [
              "         sourceid                                             source  dstid  \\\n",
              "3219391       204  0 East Patel Nagar Road, Block 10A, East Patel...    239   \n",
              "2970686       189                 F22, Block F, Krishna Nagar, Delhi     77   \n",
              "968304         62    D/116, Jeewan Nagar, Sunlight Colony, New Delhi    234   \n",
              "4177432       263  200 Pirwali Gali, Block P, Block P, Patparganj...    226   \n",
              "2818907       179  0 AB Road, Block RR, Mianwali Nagar, Paschim V...     13   \n",
              "\n",
              "                                               destination  travel_time  \n",
              "3219391                                                NaN         2135  \n",
              "2970686  0 Mehrauli - Badarpur Road, Tughlakabad Instit...         3157  \n",
              "968304   113, Press Colony, Press Colony, Mayapuri, New...         1899  \n",
              "4177432                    Unnamed Road, Model Town, Delhi         1894  \n",
              "2818907                      10, Aurangzeb Road, New Delhi         2975  "
            ],
            "text/html": [
              "\n",
              "  <div id=\"df-2e2ba235-9237-4ade-b14b-1b31c4d99c4e\">\n",
              "    <div class=\"colab-df-container\">\n",
              "      <div>\n",
              "<style scoped>\n",
              "    .dataframe tbody tr th:only-of-type {\n",
              "        vertical-align: middle;\n",
              "    }\n",
              "\n",
              "    .dataframe tbody tr th {\n",
              "        vertical-align: top;\n",
              "    }\n",
              "\n",
              "    .dataframe thead th {\n",
              "        text-align: right;\n",
              "    }\n",
              "</style>\n",
              "<table border=\"1\" class=\"dataframe\">\n",
              "  <thead>\n",
              "    <tr style=\"text-align: right;\">\n",
              "      <th></th>\n",
              "      <th>sourceid</th>\n",
              "      <th>source</th>\n",
              "      <th>dstid</th>\n",
              "      <th>destination</th>\n",
              "      <th>travel_time</th>\n",
              "    </tr>\n",
              "  </thead>\n",
              "  <tbody>\n",
              "    <tr>\n",
              "      <th>3219391</th>\n",
              "      <td>204</td>\n",
              "      <td>0 East Patel Nagar Road, Block 10A, East Patel...</td>\n",
              "      <td>239</td>\n",
              "      <td>NaN</td>\n",
              "      <td>2135</td>\n",
              "    </tr>\n",
              "    <tr>\n",
              "      <th>2970686</th>\n",
              "      <td>189</td>\n",
              "      <td>F22, Block F, Krishna Nagar, Delhi</td>\n",
              "      <td>77</td>\n",
              "      <td>0 Mehrauli - Badarpur Road, Tughlakabad Instit...</td>\n",
              "      <td>3157</td>\n",
              "    </tr>\n",
              "    <tr>\n",
              "      <th>968304</th>\n",
              "      <td>62</td>\n",
              "      <td>D/116, Jeewan Nagar, Sunlight Colony, New Delhi</td>\n",
              "      <td>234</td>\n",
              "      <td>113, Press Colony, Press Colony, Mayapuri, New...</td>\n",
              "      <td>1899</td>\n",
              "    </tr>\n",
              "    <tr>\n",
              "      <th>4177432</th>\n",
              "      <td>263</td>\n",
              "      <td>200 Pirwali Gali, Block P, Block P, Patparganj...</td>\n",
              "      <td>226</td>\n",
              "      <td>Unnamed Road, Model Town, Delhi</td>\n",
              "      <td>1894</td>\n",
              "    </tr>\n",
              "    <tr>\n",
              "      <th>2818907</th>\n",
              "      <td>179</td>\n",
              "      <td>0 AB Road, Block RR, Mianwali Nagar, Paschim V...</td>\n",
              "      <td>13</td>\n",
              "      <td>10, Aurangzeb Road, New Delhi</td>\n",
              "      <td>2975</td>\n",
              "    </tr>\n",
              "  </tbody>\n",
              "</table>\n",
              "</div>\n",
              "      <button class=\"colab-df-convert\" onclick=\"convertToInteractive('df-2e2ba235-9237-4ade-b14b-1b31c4d99c4e')\"\n",
              "              title=\"Convert this dataframe to an interactive table.\"\n",
              "              style=\"display:none;\">\n",
              "        \n",
              "  <svg xmlns=\"http://www.w3.org/2000/svg\" height=\"24px\"viewBox=\"0 0 24 24\"\n",
              "       width=\"24px\">\n",
              "    <path d=\"M0 0h24v24H0V0z\" fill=\"none\"/>\n",
              "    <path d=\"M18.56 5.44l.94 2.06.94-2.06 2.06-.94-2.06-.94-.94-2.06-.94 2.06-2.06.94zm-11 1L8.5 8.5l.94-2.06 2.06-.94-2.06-.94L8.5 2.5l-.94 2.06-2.06.94zm10 10l.94 2.06.94-2.06 2.06-.94-2.06-.94-.94-2.06-.94 2.06-2.06.94z\"/><path d=\"M17.41 7.96l-1.37-1.37c-.4-.4-.92-.59-1.43-.59-.52 0-1.04.2-1.43.59L10.3 9.45l-7.72 7.72c-.78.78-.78 2.05 0 2.83L4 21.41c.39.39.9.59 1.41.59.51 0 1.02-.2 1.41-.59l7.78-7.78 2.81-2.81c.8-.78.8-2.07 0-2.86zM5.41 20L4 18.59l7.72-7.72 1.47 1.35L5.41 20z\"/>\n",
              "  </svg>\n",
              "      </button>\n",
              "      \n",
              "  <style>\n",
              "    .colab-df-container {\n",
              "      display:flex;\n",
              "      flex-wrap:wrap;\n",
              "      gap: 12px;\n",
              "    }\n",
              "\n",
              "    .colab-df-convert {\n",
              "      background-color: #E8F0FE;\n",
              "      border: none;\n",
              "      border-radius: 50%;\n",
              "      cursor: pointer;\n",
              "      display: none;\n",
              "      fill: #1967D2;\n",
              "      height: 32px;\n",
              "      padding: 0 0 0 0;\n",
              "      width: 32px;\n",
              "    }\n",
              "\n",
              "    .colab-df-convert:hover {\n",
              "      background-color: #E2EBFA;\n",
              "      box-shadow: 0px 1px 2px rgba(60, 64, 67, 0.3), 0px 1px 3px 1px rgba(60, 64, 67, 0.15);\n",
              "      fill: #174EA6;\n",
              "    }\n",
              "\n",
              "    [theme=dark] .colab-df-convert {\n",
              "      background-color: #3B4455;\n",
              "      fill: #D2E3FC;\n",
              "    }\n",
              "\n",
              "    [theme=dark] .colab-df-convert:hover {\n",
              "      background-color: #434B5C;\n",
              "      box-shadow: 0px 1px 3px 1px rgba(0, 0, 0, 0.15);\n",
              "      filter: drop-shadow(0px 1px 2px rgba(0, 0, 0, 0.3));\n",
              "      fill: #FFFFFF;\n",
              "    }\n",
              "  </style>\n",
              "\n",
              "      <script>\n",
              "        const buttonEl =\n",
              "          document.querySelector('#df-2e2ba235-9237-4ade-b14b-1b31c4d99c4e button.colab-df-convert');\n",
              "        buttonEl.style.display =\n",
              "          google.colab.kernel.accessAllowed ? 'block' : 'none';\n",
              "\n",
              "        async function convertToInteractive(key) {\n",
              "          const element = document.querySelector('#df-2e2ba235-9237-4ade-b14b-1b31c4d99c4e');\n",
              "          const dataTable =\n",
              "            await google.colab.kernel.invokeFunction('convertToInteractive',\n",
              "                                                     [key], {});\n",
              "          if (!dataTable) return;\n",
              "\n",
              "          const docLinkHtml = 'Like what you see? Visit the ' +\n",
              "            '<a target=\"_blank\" href=https://colab.research.google.com/notebooks/data_table.ipynb>data table notebook</a>'\n",
              "            + ' to learn more about interactive tables.';\n",
              "          element.innerHTML = '';\n",
              "          dataTable['output_type'] = 'display_data';\n",
              "          await google.colab.output.renderOutput(dataTable, element);\n",
              "          const docLink = document.createElement('div');\n",
              "          docLink.innerHTML = docLinkHtml;\n",
              "          element.appendChild(docLink);\n",
              "        }\n",
              "      </script>\n",
              "    </div>\n",
              "  </div>\n",
              "  "
            ]
          },
          "metadata": {},
          "execution_count": 11
        }
      ]
    },
    {
      "cell_type": "code",
      "source": [
        "# Histogram of travel_time\n",
        "df['travel_time'].hist(bins=100)"
      ],
      "metadata": {
        "colab": {
          "base_uri": "https://localhost:8080/",
          "height": 447
        },
        "id": "ciyNzg6gGYLO",
        "outputId": "6d29c01b-1611-4248-b7fe-f815abd401ee"
      },
      "execution_count": 12,
      "outputs": [
        {
          "output_type": "execute_result",
          "data": {
            "text/plain": [
              "<Axes: >"
            ]
          },
          "metadata": {},
          "execution_count": 12
        },
        {
          "output_type": "display_data",
          "data": {
            "text/plain": [
              "<Figure size 640x480 with 1 Axes>"
            ],
            "image/png": "[encoded data removed]"
          },
          "metadata": {}
        }
      ]
    },
    {
      "cell_type": "markdown",
      "source": [
        "Observation : It is a right skewed distribution"
      ],
      "metadata": {
        "id": "mEE1mV5XHEbd"
      }
    },
    {
      "cell_type": "code",
      "source": [
        "df.value_counts(['sourceid','dstid']).sort_values()"
      ],
      "metadata": {
        "colab": {
          "base_uri": "https://localhost:8080/"
        },
        "id": "dfZVoE-cG9ys",
        "outputId": "1b671dae-6116-40a9-b726-43615c8b561f"
      },
      "execution_count": 13,
      "outputs": [
        {
          "output_type": "execute_result",
          "data": {
            "text/plain": [
              "sourceid  dstid\n",
              "69        4        50\n",
              "167       107      50\n",
              "          101      50\n",
              "264       14       50\n",
              "167       100      50\n",
              "                   ..\n",
              "83        88       79\n",
              "244       32       79\n",
              "202       201      79\n",
              "          135      79\n",
              "45        170      79\n",
              "Length: 70429, dtype: int64"
            ]
          },
          "metadata": {},
          "execution_count": 13
        }
      ]
    },
    {
      "cell_type": "code",
      "source": [
        "data = df[(df['sourceid']==1) & (df['dstid']==5) ]['travel_time']\n",
        "data.shape"
      ],
      "metadata": {
        "colab": {
          "base_uri": "https://localhost:8080/"
        },
        "id": "HsoxZ6GaJR9f",
        "outputId": "d7c9ad2f-f399-4e3c-e531-1854d8295109"
      },
      "execution_count": 14,
      "outputs": [
        {
          "output_type": "execute_result",
          "data": {
            "text/plain": [
              "(75,)"
            ]
          },
          "metadata": {},
          "execution_count": 14
        }
      ]
    },
    {
      "cell_type": "code",
      "source": [
        "data.hist(bins=30)"
      ],
      "metadata": {
        "colab": {
          "base_uri": "https://localhost:8080/",
          "height": 447
        },
        "id": "Mh7LVIlkKnIr",
        "outputId": "86886d3a-f57b-442e-f47b-3ae25cdd409f"
      },
      "execution_count": 15,
      "outputs": [
        {
          "output_type": "execute_result",
          "data": {
            "text/plain": [
              "<Axes: >"
            ]
          },
          "metadata": {},
          "execution_count": 15
        },
        {
          "output_type": "display_data",
          "data": {
            "text/plain": [
              "<Figure size 640x480 with 1 Axes>"
            ],
            "image/png": "[encoded data removed]"
          },
          "metadata": {}
        }
      ]
    },
    {
      "cell_type": "markdown",
      "source": [
        "-----------\n",
        "## CLT for C.I. on mean of travel_time"
      ],
      "metadata": {
        "id": "Oc5ZWR_HLuyp"
      }
    },
    {
      "cell_type": "code",
      "source": [
        "# Let's create r = 10000 bootstrap samples, and let each bootstrap sample be of size=50\n",
        "# bs_means is a list of 'r' bootstrap sample means\n",
        "\n",
        "r=10000 # Numbers of sample\n",
        "data = df[(df['sourceid']==1) & (df['dstid']==5) ]['travel_time']\n",
        "size = 50\n",
        "bs_means = np.empty(r) # bootstrap means\n",
        "\n",
        "for i in range(r):\n",
        "  bs_sample = np.random.choice(data, size=size)\n",
        "  bs_means[i] = np.mean(bs_sample)"
      ],
      "metadata": {
        "id": "ka6qpQLZKrqf"
      },
      "execution_count": 17,
      "outputs": []
    },
    {
      "cell_type": "code",
      "source": [
        "plt.figure()\n",
        "plt.hist(bs_means, bins=100)\n",
        "plt.grid()\n",
        "plt.show()"
      ],
      "metadata": {
        "colab": {
          "base_uri": "https://localhost:8080/",
          "height": 430
        },
        "id": "IS19VBK3etJn",
        "outputId": "dbcdaafb-bfef-4c84-856e-08121cec1cac"
      },
      "execution_count": 19,
      "outputs": [
        {
          "output_type": "display_data",
          "data": {
            "text/plain": [
              "<Figure size 640x480 with 1 Axes>"
            ],
            "image/png": "[encoded data removed]"
          },
          "metadata": {}
        }
      ]
    },
    {
      "cell_type": "markdown",
      "source": [
        "This is the distribution of the bootstrap sample means"
      ],
      "metadata": {
        "id": "mgIPMlgfhYqc"
      }
    },
    {
      "cell_type": "code",
      "source": [
        "# Compute C.I. on the mean given that bs_means follows Gaussian distribution: CLT\n",
        "\n",
        "print(np.mean(bs_means))\n",
        "print(np.std(bs_means))"
      ],
      "metadata": {
        "colab": {
          "base_uri": "https://localhost:8080/"
        },
        "id": "VpqRdlUie7D_",
        "outputId": "03878178-3879-4ec4-96e6-8a7033057415"
      },
      "execution_count": 20,
      "outputs": [
        {
          "output_type": "stream",
          "name": "stdout",
          "text": [
            "1122.817812\n",
            "3.4816938079986284\n"
          ]
        }
      ]
    },
    {
      "cell_type": "markdown",
      "source": [
        "3.4816938079986284 is the SEM(Standard Error of the mean) => sigma/roor(n)"
      ],
      "metadata": {
        "id": "MwnLeQpjiOfP"
      }
    },
    {
      "cell_type": "code",
      "source": [
        "# C.I.\n",
        "print(np.mean(bs_means) - 2*np.std(bs_means))\n",
        "print(np.mean(bs_means) + 2*np.std(bs_means, ddof=1)) # by default ddof=0 which give baised std"
      ],
      "metadata": {
        "colab": {
          "base_uri": "https://localhost:8080/"
        },
        "id": "congxf93h9tx",
        "outputId": "dfb5a788-aab3-4d48-f407-7c0254b05855"
      },
      "execution_count": 25,
      "outputs": [
        {
          "output_type": "stream",
          "name": "stdout",
          "text": [
            "1115.8544243840026\n",
            "1129.7815478114928\n"
          ]
        }
      ]
    },
    {
      "cell_type": "code",
      "source": [
        "# C.I.\n",
        "print(np.mean(bs_means) - 1.96*np.std(bs_means))\n",
        "print(np.mean(bs_means) + 1.96*np.std(bs_means, ddof=1))"
      ],
      "metadata": {
        "colab": {
          "base_uri": "https://localhost:8080/"
        },
        "id": "wU7YZttkjwMo",
        "outputId": "89a3355e-7480-4367-948f-572c63bbefcb"
      },
      "execution_count": 26,
      "outputs": [
        {
          "output_type": "stream",
          "name": "stdout",
          "text": [
            "1115.9936921363226\n",
            "1129.6422730952631\n"
          ]
        }
      ]
    },
    {
      "cell_type": "code",
      "source": [
        "# C.I. using percentile\n",
        "print(np.percentile(bs_means, 2.5))\n",
        "print(np.percentile(bs_means, 97.5))"
      ],
      "metadata": {
        "colab": {
          "base_uri": "https://localhost:8080/"
        },
        "id": "egu76CBIj8XQ",
        "outputId": "073c8db5-5722-47d8-fdc4-6f5c8b11d9f3"
      },
      "execution_count": 23,
      "outputs": [
        {
          "output_type": "stream",
          "name": "stdout",
          "text": [
            "1115.96\n",
            "1129.6\n"
          ]
        }
      ]
    },
    {
      "cell_type": "code",
      "source": [
        "1129.781199615997"
      ],
      "metadata": {
        "id": "Pt7g9RVdko0d"
      },
      "execution_count": null,
      "outputs": []
    },
    {
      "cell_type": "markdown",
      "source": [
        "------------------\n",
        "## 95% C.I. on 99 percentile value for travel_time view bootstrapping "
      ],
      "metadata": {
        "id": "uYfRz3VCnGDh"
      }
    },
    {
      "cell_type": "code",
      "source": [
        "# What if we want a C.I on the 99th percentile?\n",
        "# Let's create r=10000 bootstrap samples, and let each bootstrap samples be of size=1000\n",
        "# bs_99p is a list of 'r' bootstrap sample's 99th percentiles\n",
        "\n",
        "r=10000 # Numbers of sample\n",
        "data = df[(df['sourceid']==1) & (df['dstid']==5) ]['travel_time']\n",
        "size = 75\n",
        "bs_99p = np.empty(r) # bootstrap means\n",
        "\n",
        "for i in range(r):\n",
        "  bs_sample = np.random.choice(data, size=size)\n",
        "  bs_99p[i] = np.percentile(bs_sample,99)"
      ],
      "metadata": {
        "id": "RuyrPwRXnqny"
      },
      "execution_count": 27,
      "outputs": []
    },
    {
      "cell_type": "code",
      "source": [
        "len(bs_99p)"
      ],
      "metadata": {
        "colab": {
          "base_uri": "https://localhost:8080/"
        },
        "id": "903BF4CcpfTk",
        "outputId": "2bea51b3-c2a7-451f-85c4-6a27d97431c2"
      },
      "execution_count": 29,
      "outputs": [
        {
          "output_type": "execute_result",
          "data": {
            "text/plain": [
              "10000"
            ]
          },
          "metadata": {},
          "execution_count": 29
        }
      ]
    },
    {
      "cell_type": "code",
      "source": [
        "bs_99p"
      ],
      "metadata": {
        "colab": {
          "base_uri": "https://localhost:8080/"
        },
        "id": "F_wZe6OwpjAM",
        "outputId": "de0c4e1e-191f-4999-9bd8-4f709d07622a"
      },
      "execution_count": 30,
      "outputs": [
        {
          "output_type": "execute_result",
          "data": {
            "text/plain": [
              "array([1162.56, 1174.  , 1174.  , ..., 1168.82, 1168.82, 1174.  ])"
            ]
          },
          "metadata": {},
          "execution_count": 30
        }
      ]
    },
    {
      "cell_type": "code",
      "source": [
        "# bs_99p may or maynot be normally distributed\n",
        "print(np.percentile(bs_99p, 2.5))\n",
        "print(np.percentile(bs_99p, 97.5))"
      ],
      "metadata": {
        "colab": {
          "base_uri": "https://localhost:8080/"
        },
        "id": "zQ_eIO9cuO-6",
        "outputId": "3a980e5f-8b3e-4a16-aeac-413e8dcbee47"
      },
      "execution_count": 31,
      "outputs": [
        {
          "output_type": "stream",
          "name": "stdout",
          "text": [
            "1161.42\n",
            "1174.0\n"
          ]
        }
      ]
    },
    {
      "cell_type": "code",
      "source": [
        "# Point estimate of the 99th percentile of the 75 observed samples\n",
        "print(np.percentile(data, 99))"
      ],
      "metadata": {
        "colab": {
          "base_uri": "https://localhost:8080/"
        },
        "id": "YWqBzZ_auwdM",
        "outputId": "b81f8845-09b0-44e5-842d-ab8f59c714b2"
      },
      "execution_count": 32,
      "outputs": [
        {
          "output_type": "stream",
          "name": "stdout",
          "text": [
            "1174.0\n"
          ]
        }
      ]
    },
    {
      "cell_type": "code",
      "source": [
        "# plot the pdf of bs_99p\n",
        "plt.figure()\n",
        "plt.hist(bs_99p, bins=100)\n",
        "plt.grid()\n",
        "plt.show()"
      ],
      "metadata": {
        "colab": {
          "base_uri": "https://localhost:8080/",
          "height": 430
        },
        "id": "PNmYPcGtvm_z",
        "outputId": "3c5a2421-8336-4967-96e4-908725aa478f"
      },
      "execution_count": 33,
      "outputs": [
        {
          "output_type": "display_data",
          "data": {
            "text/plain": [
              "<Figure size 640x480 with 1 Axes>"
            ],
            "image/png": "[encoded data removed]"
          },
          "metadata": {}
        }
      ]
    },
    {
      "cell_type": "markdown",
      "source": [
        "---------------\n",
        "# CLT as 'n' and 'r' changes"
      ],
      "metadata": {
        "id": "sZyfm-Il2m5H"
      }
    },
    {
      "cell_type": "code",
      "source": [
        "data = df[(df['sourceid']==1) & (df['dstid']==5) ]['travel_time']\n",
        "data.shape"
      ],
      "metadata": {
        "colab": {
          "base_uri": "https://localhost:8080/"
        },
        "id": "psgcZ2W9v4GY",
        "outputId": "ece77624-1000-4210-d875-495350fd5673"
      },
      "execution_count": 34,
      "outputs": [
        {
          "output_type": "execute_result",
          "data": {
            "text/plain": [
              "(75,)"
            ]
          },
          "metadata": {},
          "execution_count": 34
        }
      ]
    },
    {
      "cell_type": "markdown",
      "source": [
        "## Change 'r'"
      ],
      "metadata": {
        "id": "ccWSGuml3JHr"
      }
    },
    {
      "cell_type": "code",
      "source": [
        "# What if we want a C.I on the 99th percentile?\n",
        "# Let's create r=10000 bootstrap samples, and let each bootstrap samples be of size=30\n",
        "# bs_means is a list of 'r' bootstrap sample means\n",
        "# n=30, r=10000\n",
        "r=10000 # Numbers of sample\n",
        "data = df[(df['sourceid']==1) & (df['dstid']==5) ]['travel_time']\n",
        "size = 30\n",
        "bs_means = np.empty(r) # bootstrap means\n",
        "\n",
        "for i in range(r):\n",
        "  bs_sample = np.random.choice(data, size=size)\n",
        "  bs_means[i] = np.mean(bs_sample)\n",
        "plt.figure()\n",
        "plt.hist(bs_means, bins=100) \n",
        "plt.grid()\n",
        "plt.show()\n",
        "\n",
        "print(np.mean(bs_means), np.std(bs_means))"
      ],
      "metadata": {
        "colab": {
          "base_uri": "https://localhost:8080/",
          "height": 447
        },
        "id": "KlSo80jU22Oh",
        "outputId": "e9fe7f36-43f9-412e-92b7-d7419bfa9455"
      },
      "execution_count": 36,
      "outputs": [
        {
          "output_type": "display_data",
          "data": {
            "text/plain": [
              "<Figure size 640x480 with 1 Axes>"
            ],
            "image/png": "[encoded data removed]"
          },
          "metadata": {}
        },
        {
          "output_type": "stream",
          "name": "stdout",
          "text": [
            "1122.8209266666665 4.458861123545638\n"
          ]
        }
      ]
    },
    {
      "cell_type": "code",
      "source": [
        "r=100 # Numbers of sample\n",
        "data = df[(df['sourceid']==1) & (df['dstid']==5) ]['travel_time']\n",
        "size = 30\n",
        "bs_means = np.empty(r) # bootstrap means\n",
        "\n",
        "for i in range(r):\n",
        "  bs_sample = np.random.choice(data, size=size)\n",
        "  bs_means[i] = np.mean(bs_sample)\n",
        "plt.figure()\n",
        "plt.hist(bs_means, bins=100) \n",
        "plt.grid()\n",
        "plt.show()\n",
        "\n",
        "print(np.mean(bs_means), np.std(bs_means))"
      ],
      "metadata": {
        "colab": {
          "base_uri": "https://localhost:8080/",
          "height": 447
        },
        "id": "tAEv7nJu761E",
        "outputId": "ed321c5b-72e2-409c-90d3-ac460f6388e8"
      },
      "execution_count": 37,
      "outputs": [
        {
          "output_type": "display_data",
          "data": {
            "text/plain": [
              "<Figure size 640x480 with 1 Axes>"
            ],
            "image/png": "[encoded data removed]"
          },
          "metadata": {}
        },
        {
          "output_type": "stream",
          "name": "stdout",
          "text": [
            "1123.249 4.595295795097897\n"
          ]
        }
      ]
    },
    {
      "cell_type": "code",
      "source": [
        "r=1000 # Numbers of sample\n",
        "data = df[(df['sourceid']==1) & (df['dstid']==5) ]['travel_time']\n",
        "size = 30\n",
        "bs_means = np.empty(r) # bootstrap means\n",
        "\n",
        "for i in range(r):\n",
        "  bs_sample = np.random.choice(data, size=size)\n",
        "  bs_means[i] = np.mean(bs_sample)\n",
        "plt.figure()\n",
        "plt.hist(bs_means, bins=100) \n",
        "plt.grid()\n",
        "plt.show()\n",
        "\n",
        "print(np.mean(bs_means), np.std(bs_means))"
      ],
      "metadata": {
        "colab": {
          "base_uri": "https://localhost:8080/",
          "height": 447
        },
        "id": "_a1b6R9F8F40",
        "outputId": "f3d6b1d5-e25e-401e-a9a7-a8866ea09b57"
      },
      "execution_count": 41,
      "outputs": [
        {
          "output_type": "display_data",
          "data": {
            "text/plain": [
              "<Figure size 640x480 with 1 Axes>"
            ],
            "image/png": "[encoded data removed]"
          },
          "metadata": {}
        },
        {
          "output_type": "stream",
          "name": "stdout",
          "text": [
            "1122.6030333333335 4.31896087283864\n"
          ]
        }
      ]
    },
    {
      "cell_type": "code",
      "source": [
        "#  r  ,  n  , mean  ,      std\n",
        "# 10k ,   30,  1122.820,  4.45 \n",
        "# 100 ,   30,  1123.249,  4.59\n",
        "# 1000,   30,  1122.610,  4.52"
      ],
      "metadata": {
        "id": "mR_lZBN74fiz"
      },
      "execution_count": null,
      "outputs": []
    },
    {
      "cell_type": "markdown",
      "source": [
        "Observation : \n",
        "* As we changing number of repetition 'r', the mean is not changing much.\n",
        "* The std dev is changinfg slightly but not significantly"
      ],
      "metadata": {
        "id": "n_HQlSwx9Y6s"
      }
    },
    {
      "cell_type": "markdown",
      "source": [
        "## Change in 'n'"
      ],
      "metadata": {
        "id": "zhZQy0MH88M1"
      }
    },
    {
      "cell_type": "code",
      "source": [
        "r=10000 # Numbers of sample\n",
        "data = df[(df['sourceid']==1) & (df['dstid']==5) ]['travel_time']\n",
        "size = 60\n",
        "bs_means = np.empty(r) # bootstrap means\n",
        "\n",
        "for i in range(r):\n",
        "  bs_sample = np.random.choice(data, size=size)\n",
        "  bs_means[i] = np.mean(bs_sample)\n",
        "plt.figure()\n",
        "plt.hist(bs_means, bins=100) \n",
        "plt.grid()\n",
        "plt.show()\n",
        "\n",
        "print(np.mean(bs_means), np.std(bs_means))"
      ],
      "metadata": {
        "colab": {
          "base_uri": "https://localhost:8080/",
          "height": 447
        },
        "id": "glttNfiE8-4j",
        "outputId": "e6adff4c-496e-4539-ac5c-6b8e78cf05f4"
      },
      "execution_count": 42,
      "outputs": [
        {
          "output_type": "display_data",
          "data": {
            "text/plain": [
              "<Figure size 640x480 with 1 Axes>"
            ],
            "image/png": "[encoded data removed]"
          },
          "metadata": {}
        },
        {
          "output_type": "stream",
          "name": "stdout",
          "text": [
            "1122.8507450000002 3.165356952923233\n"
          ]
        }
      ]
    },
    {
      "cell_type": "code",
      "source": [
        "r=10000 # Numbers of sample\n",
        "data = df[(df['sourceid']==1) & (df['dstid']==5) ]['travel_time']\n",
        "size = 15\n",
        "bs_means = np.empty(r) # bootstrap means\n",
        "\n",
        "for i in range(r):\n",
        "  bs_sample = np.random.choice(data, size=size)\n",
        "  bs_means[i] = np.mean(bs_sample)\n",
        "plt.figure()\n",
        "plt.hist(bs_means, bins=100) \n",
        "plt.grid()\n",
        "plt.show()\n",
        "\n",
        "print(np.mean(bs_means), np.std(bs_means))"
      ],
      "metadata": {
        "colab": {
          "base_uri": "https://localhost:8080/",
          "height": 447
        },
        "id": "DyYx0w8Q9KpQ",
        "outputId": "433e5100-36eb-481a-bd6d-ff9a5effd2f4"
      },
      "execution_count": 43,
      "outputs": [
        {
          "output_type": "display_data",
          "data": {
            "text/plain": [
              "<Figure size 640x480 with 1 Axes>"
            ],
            "image/png": "[encoded data removed]"
          },
          "metadata": {}
        },
        {
          "output_type": "stream",
          "name": "stdout",
          "text": [
            "1122.79814 6.357707805522364\n"
          ]
        }
      ]
    },
    {
      "cell_type": "code",
      "source": [
        "#  r  ,  n  , mean  ,    std\n",
        "# 10k ,  30,  1122.820,  4.45 \n",
        "# 10k ,  60,  1122.850,  3.165\n",
        "# 10k,   15,  1122.798,  6.357"
      ],
      "metadata": {
        "id": "AwzxwKr69zu0"
      },
      "execution_count": null,
      "outputs": []
    },
    {
      "cell_type": "markdown",
      "source": [
        "Observation :  \n",
        "* Sample size is effecting SEM much more tham number of repetition\n",
        "* So focus more on sample size(should be as largest as possible)"
      ],
      "metadata": {
        "id": "O_IOc1GzAeyN"
      }
    },
    {
      "cell_type": "code",
      "source": [],
      "metadata": {
        "id": "yqPoF9SY9PLg"
      },
      "execution_count": null,
      "outputs": []
    }
  ]
}